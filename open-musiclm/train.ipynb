{
 "cells": [
  {
   "cell_type": "code",
   "execution_count": 5,
   "id": "7d907c4b-0938-4707-b359-c8f02c21fe33",
   "metadata": {},
   "outputs": [],
   "source": [
    "import torch\n",
    "from open_musiclm.clap_quantized import create_clap_quantized\n",
    "from open_musiclm.config import (create_clap_quantized_from_config,\n",
    "                                 create_clap_rvq_trainer_from_config,\n",
    "                                 load_model_config, load_training_config)\n",
    "from open_musiclm.trainer import ClapRVQTrainer\n",
    "from scripts.train_utils import disable_print"
   ]
  },
  {
   "cell_type": "code",
   "execution_count": 6,
   "id": "bd75e1da-31b5-445f-941e-9ca9f1b5516b",
   "metadata": {},
   "outputs": [],
   "source": [
    "device = 'cuda' if torch.cuda.is_available() else 'cpu'"
   ]
  },
  {
   "cell_type": "code",
   "execution_count": 17,
   "id": "aa1ad506-ad16-4251-bdd9-ec304abe5608",
   "metadata": {},
   "outputs": [],
   "source": [
    "result_folder = './results/clap_rvq'\n",
    "model_config = './configs/model/musiclm_large_small_context.json'\n",
    "training_config = './configs/training/train_hackaton.json'\n",
    "continue_from = None\n",
    "\n",
    "model_config = load_model_config(model_config)\n",
    "training_config = load_training_config(training_config)"
   ]
  },
  {
   "cell_type": "code",
   "execution_count": 18,
   "id": "36c23df6-a9c5-4964-8074-d4fa134d2f9f",
   "metadata": {},
   "outputs": [
    {
     "name": "stderr",
     "output_type": "stream",
     "text": [
      "Some weights of RobertaModel were not initialized from the model checkpoint at roberta-base and are newly initialized: ['roberta.pooler.dense.bias', 'roberta.pooler.dense.weight']\n",
      "You should probably TRAIN this model on a down-stream task to be able to use it for predictions and inference.\n",
      "/home/jovyan/venvs/sinara/lib/python3.10/site-packages/torchaudio/transforms/_transforms.py:580: UserWarning: Argument 'onesided' has been deprecated and has no influence on the behavior of this module.\n",
      "  warnings.warn(\n"
     ]
    }
   ],
   "source": [
    "clap = create_clap_quantized_from_config(model_config, continue_from, device)"
   ]
  },
  {
   "cell_type": "code",
   "execution_count": 19,
   "id": "74106048-37b4-4eb7-aa13-6b3adca9d44e",
   "metadata": {},
   "outputs": [
    {
     "name": "stdout",
     "output_type": "stream",
     "text": [
      "training with dataset of 36 samples and validating with randomly splitted 2 samples\n"
     ]
    },
    {
     "name": "stdin",
     "output_type": "stream",
     "text": [
      "do you want to clear previous experiment checkpoints and results? (y/n)  y\n"
     ]
    }
   ],
   "source": [
    "trainer = create_clap_rvq_trainer_from_config(\n",
    "        model_config=model_config,\n",
    "        training_config=training_config,\n",
    "        clap=clap,\n",
    "        results_folder=result_folder,\n",
    "        device=device,\n",
    "        accelerate_kwargs={\n",
    "            'log_with': \"wandb\"\n",
    "        },)"
   ]
  },
  {
   "cell_type": "code",
   "execution_count": null,
   "id": "8e29a057-4ab8-4048-97de-c23157f111f3",
   "metadata": {},
   "outputs": [
    {
     "name": "stderr",
     "output_type": "stream",
     "text": [
      "accumulating batches: 100%|██████████| 32/32 [06:16<00:00, 11.75s/it]\n"
     ]
    },
    {
     "name": "stdout",
     "output_type": "stream",
     "text": [
      "loss: 1.1032700752682808e-16\n",
      "0: valid loss 0.0008330608252435923\n",
      "0: saving model to results/clap_rvq\n"
     ]
    },
    {
     "name": "stderr",
     "output_type": "stream",
     "text": [
      "accumulating batches: 100%|██████████| 32/32 [06:16<00:00, 11.76s/it]\n"
     ]
    },
    {
     "name": "stdout",
     "output_type": "stream",
     "text": [
      "loss: 0.0008278142777271569\n"
     ]
    },
    {
     "name": "stderr",
     "output_type": "stream",
     "text": [
      "accumulating batches: 100%|██████████| 32/32 [06:15<00:00, 11.75s/it]\n"
     ]
    },
    {
     "name": "stdout",
     "output_type": "stream",
     "text": [
      "loss: 0.0005301235360093415\n"
     ]
    },
    {
     "name": "stderr",
     "output_type": "stream",
     "text": [
      "accumulating batches:  28%|██▊       | 9/32 [01:45<04:30, 11.77s/it]"
     ]
    }
   ],
   "source": [
    "trainer.train()"
   ]
  },
  {
   "cell_type": "code",
   "execution_count": null,
   "id": "e2710533-f587-4009-a974-63290f6a727b",
   "metadata": {},
   "outputs": [],
   "source": []
  }
 ],
 "metadata": {
  "kernelspec": {
   "display_name": "cv",
   "language": "python",
   "name": "python3"
  },
  "language_info": {
   "codemirror_mode": {
    "name": "ipython",
    "version": 3
   },
   "file_extension": ".py",
   "mimetype": "text/x-python",
   "name": "python",
   "nbconvert_exporter": "python",
   "pygments_lexer": "ipython3",
   "version": "3.10.12"
  }
 },
 "nbformat": 4,
 "nbformat_minor": 5
}
