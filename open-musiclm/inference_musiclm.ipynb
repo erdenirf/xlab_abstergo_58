{
 "cells": [
  {
   "cell_type": "code",
   "execution_count": null,
   "id": "102ebf21-26f6-4b95-8439-76f6c8026d17",
   "metadata": {},
   "outputs": [],
   "source": [
    "from open_musiclm.open_musiclm import MusicLM\n",
    "from open_musiclm.config import create_musiclm_from_config\n",
    "from open_musiclm.config import load_model_config"
   ]
  },
  {
   "cell_type": "code",
   "execution_count": null,
   "id": "19ea94fb-1ad6-41b4-bd3c-235622a8b04a",
   "metadata": {},
   "outputs": [],
   "source": [
    "semantic_path = \"checkpoints_new/semantic.transformer.14000.pt\"\n",
    "coarse_path = \"checkpoints_new/coarse.transformer.18000.pt\"\n",
    "fine_path = \"checkpoints_new/fine.transformer.24000.pt\"\n",
    "rvq_path = 'checkpoints_new/clap.rvq.950_no_fusion.pt'\n",
    "kmeans_path = \"checkpoints_new/kmeans_10s_no_fusion.joblib\"\n",
    "model_config = \"./configs/model/musiclm_large_small_context.json\"\n",
    "results_folder = \"results\""
   ]
  },
  {
   "cell_type": "code",
   "execution_count": null,
   "id": "c69525f1-fb0e-4722-8d0a-7092d847073e",
   "metadata": {},
   "outputs": [],
   "source": [
    "device = 'cuda:0"
   ]
  },
  {
   "cell_type": "code",
   "execution_count": null,
   "id": "69aa0ad7-0290-454e-b963-921fd01619af",
   "metadata": {},
   "outputs": [],
   "source": [
    "model_config = load_model_config(model_config)"
   ]
  },
  {
   "cell_type": "code",
   "execution_count": null,
   "id": "4a5c9dba-bb2f-4c8b-a9d2-51810db48b89",
   "metadata": {},
   "outputs": [],
   "source": [
    "musiclm = create_musiclm_from_config(\n",
    "        model_config=model_config,\n",
    "        semantic_path=semantic_path,\n",
    "        coarse_path=coarse_path,\n",
    "        fine_path=fine_path,\n",
    "        rvq_path=rvq_path,\n",
    "        kmeans_path=kmeans_path,\n",
    "        device=device)\n",
    "\n"
   ]
  },
  {
   "cell_type": "code",
   "execution_count": null,
   "id": "9af2fc42-4d85-4900-baef-07663b11734c",
   "metadata": {},
   "outputs": [],
   "source": [
    "generated_wave = musiclm.forward(\n",
    "            text=prompt,\n",
    "            output_seconds=duration,\n",
    "            semantic_window_seconds=model_config.global_cfg.semantic_audio_length_seconds,\n",
    "            coarse_window_seconds=model_config.global_cfg.coarse_audio_length_seconds,\n",
    "            fine_window_seconds=model_config.global_cfg.fine_audio_length_seconds,\n",
    "            semantic_steps_per_second=model_config.hubert_kmeans_cfg.output_hz,\n",
    "            acoustic_steps_per_second=model_config.encodec_cfg.output_hz,\n",
    "            return_coarse_generated_wave=return_coarse_wave,\n",
    "        )\n",
    "print(generated_wave.shape)\n",
    "generated_wave = rearrange(generated_wave, 'b n -> b 1 n')"
   ]
  }
 ],
 "metadata": {
  "kernelspec": {
   "display_name": "cv",
   "language": "python",
   "name": "python3"
  },
  "language_info": {
   "codemirror_mode": {
    "name": "ipython",
    "version": 3
   },
   "file_extension": ".py",
   "mimetype": "text/x-python",
   "name": "python",
   "nbconvert_exporter": "python",
   "pygments_lexer": "ipython3",
   "version": "3.10.12"
  }
 },
 "nbformat": 4,
 "nbformat_minor": 5
}
